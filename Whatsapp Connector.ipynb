{
 "cells": [
  {
   "cell_type": "code",
   "execution_count": 6,
   "id": "b3c2c8dd",
   "metadata": {},
   "outputs": [
    {
     "name": "stdout",
     "output_type": "stream",
     "text": [
      "Looking in indexes: https://pypi.org/simple, https://pypi.ngc.nvidia.com\n",
      "Collecting pipwin\n",
      "  Downloading pipwin-0.5.1.tar.gz (8.8 kB)\n",
      "  Preparing metadata (setup.py) ... \u001b[?25ldone\n",
      "\u001b[?25hCollecting docopt\n",
      "  Downloading docopt-0.6.2.tar.gz (25 kB)\n",
      "  Preparing metadata (setup.py) ... \u001b[?25ldone\n",
      "\u001b[?25hRequirement already satisfied: requests in /Users/renesalmon/.pyenv/versions/3.8.6/envs/lewagon/lib/python3.8/site-packages (from pipwin) (2.24.0)\n",
      "Collecting pyprind\n",
      "  Downloading PyPrind-2.11.3-py2.py3-none-any.whl (8.4 kB)\n",
      "Requirement already satisfied: six in /Users/renesalmon/.pyenv/versions/3.8.6/envs/lewagon/lib/python3.8/site-packages (from pipwin) (1.15.0)\n",
      "Requirement already satisfied: beautifulsoup4>=4.9.0 in /Users/renesalmon/.pyenv/versions/3.8.6/envs/lewagon/lib/python3.8/site-packages (from pipwin) (4.9.3)\n",
      "Collecting js2py\n",
      "  Downloading Js2Py-0.71-py3-none-any.whl (1.0 MB)\n",
      "     |████████████████████████████████| 1.0 MB 3.5 MB/s            \n",
      "\u001b[?25hRequirement already satisfied: packaging in /Users/renesalmon/.pyenv/versions/3.8.6/envs/lewagon/lib/python3.8/site-packages (from pipwin) (21.0)\n",
      "Collecting pySmartDL>=1.3.1\n",
      "  Downloading pySmartDL-1.3.4-py3-none-any.whl (20 kB)\n",
      "Requirement already satisfied: soupsieve>1.2 in /Users/renesalmon/.pyenv/versions/3.8.6/envs/lewagon/lib/python3.8/site-packages (from beautifulsoup4>=4.9.0->pipwin) (2.2.1)\n",
      "Requirement already satisfied: tzlocal>=1.2 in /Users/renesalmon/.pyenv/versions/3.8.6/envs/lewagon/lib/python3.8/site-packages (from js2py->pipwin) (3.0)\n",
      "Collecting pyjsparser>=2.5.1\n",
      "  Downloading pyjsparser-2.7.1.tar.gz (24 kB)\n",
      "  Preparing metadata (setup.py) ... \u001b[?25ldone\n",
      "\u001b[?25hRequirement already satisfied: pyparsing>=2.0.2 in /Users/renesalmon/.pyenv/versions/3.8.6/envs/lewagon/lib/python3.8/site-packages (from packaging->pipwin) (2.4.7)\n",
      "Requirement already satisfied: idna<3,>=2.5 in /Users/renesalmon/.pyenv/versions/3.8.6/envs/lewagon/lib/python3.8/site-packages (from requests->pipwin) (2.10)\n",
      "Requirement already satisfied: chardet<4,>=3.0.2 in /Users/renesalmon/.pyenv/versions/3.8.6/envs/lewagon/lib/python3.8/site-packages (from requests->pipwin) (3.0.4)\n",
      "Requirement already satisfied: urllib3!=1.25.0,!=1.25.1,<1.26,>=1.21.1 in /Users/renesalmon/.pyenv/versions/3.8.6/envs/lewagon/lib/python3.8/site-packages (from requests->pipwin) (1.25.10)\n",
      "Requirement already satisfied: certifi>=2017.4.17 in /Users/renesalmon/.pyenv/versions/3.8.6/envs/lewagon/lib/python3.8/site-packages (from requests->pipwin) (2020.6.20)\n",
      "Requirement already satisfied: backports.zoneinfo in /Users/renesalmon/.pyenv/versions/3.8.6/envs/lewagon/lib/python3.8/site-packages (from tzlocal>=1.2->js2py->pipwin) (0.2.1)\n",
      "Building wheels for collected packages: pipwin, docopt, pyjsparser\n",
      "  Building wheel for pipwin (setup.py) ... \u001b[?25ldone\n",
      "\u001b[?25h  Created wheel for pipwin: filename=pipwin-0.5.1-py2.py3-none-any.whl size=8778 sha256=b923ac0c9852d8a4bbe8eb75ff5397254166b7351cedd7794879dd0936a8ecf1\n",
      "  Stored in directory: /private/var/folders/2d/wwtz9jl52lx4gtzgs_r0x7rr0000gn/T/pip-ephem-wheel-cache-nf_qcmir/wheels/94/1b/63/6465d24b53c03f566cfb25a7a9b806b4b0e29c95d82ac189d8\n",
      "  Building wheel for docopt (setup.py) ... \u001b[?25ldone\n",
      "\u001b[?25h  Created wheel for docopt: filename=docopt-0.6.2-py2.py3-none-any.whl size=13705 sha256=a4edaae45ca0061bc576419b430da3b59b624630f862ad2bac0ba497576ea418\n",
      "  Stored in directory: /private/var/folders/2d/wwtz9jl52lx4gtzgs_r0x7rr0000gn/T/pip-ephem-wheel-cache-nf_qcmir/wheels/56/ea/58/ead137b087d9e326852a851351d1debf4ada529b6ac0ec4e8c\n",
      "  Building wheel for pyjsparser (setup.py) ... \u001b[?25ldone\n",
      "\u001b[?25h  Created wheel for pyjsparser: filename=pyjsparser-2.7.1-py3-none-any.whl size=25998 sha256=61f63e361727bd6363638ab452c0080b61ca5f3f2cc0f77a56fbe8b8cfbd4d92\n",
      "  Stored in directory: /private/var/folders/2d/wwtz9jl52lx4gtzgs_r0x7rr0000gn/T/pip-ephem-wheel-cache-nf_qcmir/wheels/d5/88/34/ccb5bb40eb3178a134eb293e6c363928c5bcfba0b91031db76\n",
      "Successfully built pipwin docopt pyjsparser\n",
      "Installing collected packages: pyjsparser, pySmartDL, pyprind, js2py, docopt, pipwin\n",
      "Successfully installed docopt-0.6.2 js2py-0.71 pipwin-0.5.1 pySmartDL-1.3.4 pyjsparser-2.7.1 pyprind-2.11.3\n"
     ]
    }
   ],
   "source": [
    "!pip install pipwin"
   ]
  },
  {
   "cell_type": "code",
   "execution_count": 8,
   "id": "6213965b",
   "metadata": {},
   "outputs": [
    {
     "name": "stdout",
     "output_type": "stream",
     "text": [
      "Looking in indexes: https://pypi.org/simple, https://pypi.ngc.nvidia.com\n",
      "Requirement already satisfied: pywhatkit in /Users/renesalmon/.pyenv/versions/3.8.6/envs/lewagon/lib/python3.8/site-packages (5.2)\n",
      "Requirement already satisfied: requests in /Users/renesalmon/.pyenv/versions/3.8.6/envs/lewagon/lib/python3.8/site-packages (from pywhatkit) (2.24.0)\n",
      "Requirement already satisfied: wikipedia in /Users/renesalmon/.pyenv/versions/3.8.6/envs/lewagon/lib/python3.8/site-packages (from pywhatkit) (1.4.0)\n",
      "Requirement already satisfied: pyautogui in /Users/renesalmon/.pyenv/versions/3.8.6/envs/lewagon/lib/python3.8/site-packages (from pywhatkit) (0.9.53)\n",
      "Requirement already satisfied: Pillow in /Users/renesalmon/.pyenv/versions/3.8.6/envs/lewagon/lib/python3.8/site-packages (from pywhatkit) (8.3.0)\n",
      "Requirement already satisfied: pyobjc-core in /Users/renesalmon/.pyenv/versions/3.8.6/envs/lewagon/lib/python3.8/site-packages (from pyautogui->pywhatkit) (8.1)\n",
      "Requirement already satisfied: mouseinfo in /Users/renesalmon/.pyenv/versions/3.8.6/envs/lewagon/lib/python3.8/site-packages (from pyautogui->pywhatkit) (0.1.3)\n",
      "Requirement already satisfied: pymsgbox in /Users/renesalmon/.pyenv/versions/3.8.6/envs/lewagon/lib/python3.8/site-packages (from pyautogui->pywhatkit) (1.0.9)\n",
      "Requirement already satisfied: pyscreeze>=0.1.21 in /Users/renesalmon/.pyenv/versions/3.8.6/envs/lewagon/lib/python3.8/site-packages (from pyautogui->pywhatkit) (0.1.28)\n",
      "Requirement already satisfied: pygetwindow>=0.0.5 in /Users/renesalmon/.pyenv/versions/3.8.6/envs/lewagon/lib/python3.8/site-packages (from pyautogui->pywhatkit) (0.0.9)\n",
      "Requirement already satisfied: pyobjc in /Users/renesalmon/.pyenv/versions/3.8.6/envs/lewagon/lib/python3.8/site-packages (from pyautogui->pywhatkit) (8.1)\n",
      "Requirement already satisfied: PyTweening>=1.0.1 in /Users/renesalmon/.pyenv/versions/3.8.6/envs/lewagon/lib/python3.8/site-packages (from pyautogui->pywhatkit) (1.0.4)\n",
      "Requirement already satisfied: idna<3,>=2.5 in /Users/renesalmon/.pyenv/versions/3.8.6/envs/lewagon/lib/python3.8/site-packages (from requests->pywhatkit) (2.10)\n",
      "Requirement already satisfied: urllib3!=1.25.0,!=1.25.1,<1.26,>=1.21.1 in /Users/renesalmon/.pyenv/versions/3.8.6/envs/lewagon/lib/python3.8/site-packages (from requests->pywhatkit) (1.25.10)\n",
      "Requirement already satisfied: chardet<4,>=3.0.2 in /Users/renesalmon/.pyenv/versions/3.8.6/envs/lewagon/lib/python3.8/site-packages (from requests->pywhatkit) (3.0.4)\n",
      "Requirement already satisfied: certifi>=2017.4.17 in /Users/renesalmon/.pyenv/versions/3.8.6/envs/lewagon/lib/python3.8/site-packages (from requests->pywhatkit) (2020.6.20)\n",
      "Requirement already satisfied: beautifulsoup4 in /Users/renesalmon/.pyenv/versions/3.8.6/envs/lewagon/lib/python3.8/site-packages (from wikipedia->pywhatkit) (4.9.3)\n",
      "Requirement already satisfied: pyrect in /Users/renesalmon/.pyenv/versions/3.8.6/envs/lewagon/lib/python3.8/site-packages (from pygetwindow>=0.0.5->pyautogui->pywhatkit) (0.1.4)\n",
      "Requirement already satisfied: soupsieve>1.2 in /Users/renesalmon/.pyenv/versions/3.8.6/envs/lewagon/lib/python3.8/site-packages (from beautifulsoup4->wikipedia->pywhatkit) (2.2.1)\n",
      "Requirement already satisfied: rubicon-objc in /Users/renesalmon/.pyenv/versions/3.8.6/envs/lewagon/lib/python3.8/site-packages (from mouseinfo->pyautogui->pywhatkit) (0.4.2)\n",
      "Requirement already satisfied: pyperclip in /Users/renesalmon/.pyenv/versions/3.8.6/envs/lewagon/lib/python3.8/site-packages (from mouseinfo->pyautogui->pywhatkit) (1.8.2)\n",
      "Requirement already satisfied: pyobjc-framework-UniformTypeIdentifiers==8.1 in /Users/renesalmon/.pyenv/versions/3.8.6/envs/lewagon/lib/python3.8/site-packages (from pyobjc->pyautogui->pywhatkit) (8.1)\n",
      "Requirement already satisfied: pyobjc-framework-CallKit==8.1 in /Users/renesalmon/.pyenv/versions/3.8.6/envs/lewagon/lib/python3.8/site-packages (from pyobjc->pyautogui->pywhatkit) (8.1)\n",
      "Requirement already satisfied: pyobjc-framework-Speech==8.1 in /Users/renesalmon/.pyenv/versions/3.8.6/envs/lewagon/lib/python3.8/site-packages (from pyobjc->pyautogui->pywhatkit) (8.1)\n",
      "Requirement already satisfied: pyobjc-framework-CoreWLAN==8.1 in /Users/renesalmon/.pyenv/versions/3.8.6/envs/lewagon/lib/python3.8/site-packages (from pyobjc->pyautogui->pywhatkit) (8.1)\n",
      "Requirement already satisfied: pyobjc-framework-Metal==8.1 in /Users/renesalmon/.pyenv/versions/3.8.6/envs/lewagon/lib/python3.8/site-packages (from pyobjc->pyautogui->pywhatkit) (8.1)\n",
      "Requirement already satisfied: pyobjc-framework-DiskArbitration==8.1 in /Users/renesalmon/.pyenv/versions/3.8.6/envs/lewagon/lib/python3.8/site-packages (from pyobjc->pyautogui->pywhatkit) (8.1)\n",
      "Requirement already satisfied: pyobjc-framework-StoreKit==8.1 in /Users/renesalmon/.pyenv/versions/3.8.6/envs/lewagon/lib/python3.8/site-packages (from pyobjc->pyautogui->pywhatkit) (8.1)\n",
      "Requirement already satisfied: pyobjc-framework-MultipeerConnectivity==8.1 in /Users/renesalmon/.pyenv/versions/3.8.6/envs/lewagon/lib/python3.8/site-packages (from pyobjc->pyautogui->pywhatkit) (8.1)\n",
      "Requirement already satisfied: pyobjc-framework-CoreAudio==8.1 in /Users/renesalmon/.pyenv/versions/3.8.6/envs/lewagon/lib/python3.8/site-packages (from pyobjc->pyautogui->pywhatkit) (8.1)\n",
      "Requirement already satisfied: pyobjc-framework-iTunesLibrary==8.1 in /Users/renesalmon/.pyenv/versions/3.8.6/envs/lewagon/lib/python3.8/site-packages (from pyobjc->pyautogui->pywhatkit) (8.1)\n",
      "Requirement already satisfied: pyobjc-framework-CloudKit==8.1 in /Users/renesalmon/.pyenv/versions/3.8.6/envs/lewagon/lib/python3.8/site-packages (from pyobjc->pyautogui->pywhatkit) (8.1)\n",
      "Requirement already satisfied: pyobjc-framework-ServiceManagement==8.1 in /Users/renesalmon/.pyenv/versions/3.8.6/envs/lewagon/lib/python3.8/site-packages (from pyobjc->pyautogui->pywhatkit) (8.1)\n",
      "Requirement already satisfied: pyobjc-framework-MetalPerformanceShadersGraph==8.1 in /Users/renesalmon/.pyenv/versions/3.8.6/envs/lewagon/lib/python3.8/site-packages (from pyobjc->pyautogui->pywhatkit) (8.1)\n",
      "Requirement already satisfied: pyobjc-framework-PushKit==8.1 in /Users/renesalmon/.pyenv/versions/3.8.6/envs/lewagon/lib/python3.8/site-packages (from pyobjc->pyautogui->pywhatkit) (8.1)\n",
      "Requirement already satisfied: pyobjc-framework-QuickLookThumbnailing==8.1 in /Users/renesalmon/.pyenv/versions/3.8.6/envs/lewagon/lib/python3.8/site-packages (from pyobjc->pyautogui->pywhatkit) (8.1)\n",
      "Requirement already satisfied: pyobjc-framework-AdServices==8.1 in /Users/renesalmon/.pyenv/versions/3.8.6/envs/lewagon/lib/python3.8/site-packages (from pyobjc->pyautogui->pywhatkit) (8.1)\n",
      "Requirement already satisfied: pyobjc-framework-MLCompute==8.1 in /Users/renesalmon/.pyenv/versions/3.8.6/envs/lewagon/lib/python3.8/site-packages (from pyobjc->pyautogui->pywhatkit) (8.1)\n",
      "Requirement already satisfied: pyobjc-framework-AVFoundation==8.1 in /Users/renesalmon/.pyenv/versions/3.8.6/envs/lewagon/lib/python3.8/site-packages (from pyobjc->pyautogui->pywhatkit) (8.1)\n",
      "Requirement already satisfied: pyobjc-framework-MediaPlayer==8.1 in /Users/renesalmon/.pyenv/versions/3.8.6/envs/lewagon/lib/python3.8/site-packages (from pyobjc->pyautogui->pywhatkit) (8.1)\n",
      "Requirement already satisfied: pyobjc-framework-InputMethodKit==8.1 in /Users/renesalmon/.pyenv/versions/3.8.6/envs/lewagon/lib/python3.8/site-packages (from pyobjc->pyautogui->pywhatkit) (8.1)\n",
      "Requirement already satisfied: pyobjc-framework-CalendarStore==8.1 in /Users/renesalmon/.pyenv/versions/3.8.6/envs/lewagon/lib/python3.8/site-packages (from pyobjc->pyautogui->pywhatkit) (8.1)\n",
      "Requirement already satisfied: pyobjc-framework-CoreText==8.1 in /Users/renesalmon/.pyenv/versions/3.8.6/envs/lewagon/lib/python3.8/site-packages (from pyobjc->pyautogui->pywhatkit) (8.1)\n",
      "Requirement already satisfied: pyobjc-framework-LocalAuthentication==8.1 in /Users/renesalmon/.pyenv/versions/3.8.6/envs/lewagon/lib/python3.8/site-packages (from pyobjc->pyautogui->pywhatkit) (8.1)\n",
      "Requirement already satisfied: pyobjc-framework-UserNotificationsUI==8.1 in /Users/renesalmon/.pyenv/versions/3.8.6/envs/lewagon/lib/python3.8/site-packages (from pyobjc->pyautogui->pywhatkit) (8.1)\n",
      "Requirement already satisfied: pyobjc-framework-DiscRecordingUI==8.1 in /Users/renesalmon/.pyenv/versions/3.8.6/envs/lewagon/lib/python3.8/site-packages (from pyobjc->pyautogui->pywhatkit) (8.1)\n",
      "Requirement already satisfied: pyobjc-framework-ApplicationServices==8.1 in /Users/renesalmon/.pyenv/versions/3.8.6/envs/lewagon/lib/python3.8/site-packages (from pyobjc->pyautogui->pywhatkit) (8.1)\n",
      "Requirement already satisfied: pyobjc-framework-NetworkExtension==8.1 in /Users/renesalmon/.pyenv/versions/3.8.6/envs/lewagon/lib/python3.8/site-packages (from pyobjc->pyautogui->pywhatkit) (8.1)\n",
      "Requirement already satisfied: pyobjc-framework-CoreSpotlight==8.1 in /Users/renesalmon/.pyenv/versions/3.8.6/envs/lewagon/lib/python3.8/site-packages (from pyobjc->pyautogui->pywhatkit) (8.1)\n"
     ]
    },
    {
     "name": "stdout",
     "output_type": "stream",
     "text": [
      "Requirement already satisfied: pyobjc-framework-DiscRecording==8.1 in /Users/renesalmon/.pyenv/versions/3.8.6/envs/lewagon/lib/python3.8/site-packages (from pyobjc->pyautogui->pywhatkit) (8.1)\n",
      "Requirement already satisfied: pyobjc-framework-SearchKit==8.1 in /Users/renesalmon/.pyenv/versions/3.8.6/envs/lewagon/lib/python3.8/site-packages (from pyobjc->pyautogui->pywhatkit) (8.1)\n",
      "Requirement already satisfied: pyobjc-framework-SystemConfiguration==8.1 in /Users/renesalmon/.pyenv/versions/3.8.6/envs/lewagon/lib/python3.8/site-packages (from pyobjc->pyautogui->pywhatkit) (8.1)\n",
      "Requirement already satisfied: pyobjc-framework-DVDPlayback==8.1 in /Users/renesalmon/.pyenv/versions/3.8.6/envs/lewagon/lib/python3.8/site-packages (from pyobjc->pyautogui->pywhatkit) (8.1)\n",
      "Requirement already satisfied: pyobjc-framework-WebKit==8.1 in /Users/renesalmon/.pyenv/versions/3.8.6/envs/lewagon/lib/python3.8/site-packages (from pyobjc->pyautogui->pywhatkit) (8.1)\n",
      "Requirement already satisfied: pyobjc-framework-GameplayKit==8.1 in /Users/renesalmon/.pyenv/versions/3.8.6/envs/lewagon/lib/python3.8/site-packages (from pyobjc->pyautogui->pywhatkit) (8.1)\n",
      "Requirement already satisfied: pyobjc-framework-PreferencePanes==8.1 in /Users/renesalmon/.pyenv/versions/3.8.6/envs/lewagon/lib/python3.8/site-packages (from pyobjc->pyautogui->pywhatkit) (8.1)\n",
      "Requirement already satisfied: pyobjc-framework-ColorSync==8.1 in /Users/renesalmon/.pyenv/versions/3.8.6/envs/lewagon/lib/python3.8/site-packages (from pyobjc->pyautogui->pywhatkit) (8.1)\n",
      "Requirement already satisfied: pyobjc-framework-ReplayKit==8.1 in /Users/renesalmon/.pyenv/versions/3.8.6/envs/lewagon/lib/python3.8/site-packages (from pyobjc->pyautogui->pywhatkit) (8.1)\n",
      "Requirement already satisfied: pyobjc-framework-NotificationCenter==8.1 in /Users/renesalmon/.pyenv/versions/3.8.6/envs/lewagon/lib/python3.8/site-packages (from pyobjc->pyautogui->pywhatkit) (8.1)\n",
      "Requirement already satisfied: pyobjc-framework-NaturalLanguage==8.1 in /Users/renesalmon/.pyenv/versions/3.8.6/envs/lewagon/lib/python3.8/site-packages (from pyobjc->pyautogui->pywhatkit) (8.1)\n",
      "Requirement already satisfied: pyobjc-framework-GameKit==8.1 in /Users/renesalmon/.pyenv/versions/3.8.6/envs/lewagon/lib/python3.8/site-packages (from pyobjc->pyautogui->pywhatkit) (8.1)\n",
      "Requirement already satisfied: pyobjc-framework-Security==8.1 in /Users/renesalmon/.pyenv/versions/3.8.6/envs/lewagon/lib/python3.8/site-packages (from pyobjc->pyautogui->pywhatkit) (8.1)\n",
      "Requirement already satisfied: pyobjc-framework-AdSupport==8.1 in /Users/renesalmon/.pyenv/versions/3.8.6/envs/lewagon/lib/python3.8/site-packages (from pyobjc->pyautogui->pywhatkit) (8.1)\n",
      "Requirement already satisfied: pyobjc-framework-BusinessChat==8.1 in /Users/renesalmon/.pyenv/versions/3.8.6/envs/lewagon/lib/python3.8/site-packages (from pyobjc->pyautogui->pywhatkit) (8.1)\n",
      "Requirement already satisfied: pyobjc-framework-Collaboration==8.1 in /Users/renesalmon/.pyenv/versions/3.8.6/envs/lewagon/lib/python3.8/site-packages (from pyobjc->pyautogui->pywhatkit) (8.1)\n",
      "Requirement already satisfied: pyobjc-framework-OpenDirectory==8.1 in /Users/renesalmon/.pyenv/versions/3.8.6/envs/lewagon/lib/python3.8/site-packages (from pyobjc->pyautogui->pywhatkit) (8.1)\n",
      "Requirement already satisfied: pyobjc-framework-AudioVideoBridging==8.1 in /Users/renesalmon/.pyenv/versions/3.8.6/envs/lewagon/lib/python3.8/site-packages (from pyobjc->pyautogui->pywhatkit) (8.1)\n",
      "Requirement already satisfied: pyobjc-framework-SystemExtensions==8.1 in /Users/renesalmon/.pyenv/versions/3.8.6/envs/lewagon/lib/python3.8/site-packages (from pyobjc->pyautogui->pywhatkit) (8.1)\n",
      "Requirement already satisfied: pyobjc-framework-VideoSubscriberAccount==8.1 in /Users/renesalmon/.pyenv/versions/3.8.6/envs/lewagon/lib/python3.8/site-packages (from pyobjc->pyautogui->pywhatkit) (8.1)\n",
      "Requirement already satisfied: pyobjc-framework-GameController==8.1 in /Users/renesalmon/.pyenv/versions/3.8.6/envs/lewagon/lib/python3.8/site-packages (from pyobjc->pyautogui->pywhatkit) (8.1)\n",
      "Requirement already satisfied: pyobjc-framework-PhotosUI==8.1 in /Users/renesalmon/.pyenv/versions/3.8.6/envs/lewagon/lib/python3.8/site-packages (from pyobjc->pyautogui->pywhatkit) (8.1)\n",
      "Requirement already satisfied: pyobjc-framework-CoreHaptics==8.1 in /Users/renesalmon/.pyenv/versions/3.8.6/envs/lewagon/lib/python3.8/site-packages (from pyobjc->pyautogui->pywhatkit) (8.1)\n",
      "Requirement already satisfied: pyobjc-framework-InstantMessage==8.1 in /Users/renesalmon/.pyenv/versions/3.8.6/envs/lewagon/lib/python3.8/site-packages (from pyobjc->pyautogui->pywhatkit) (8.1)\n",
      "Requirement already satisfied: pyobjc-framework-CFNetwork==8.1 in /Users/renesalmon/.pyenv/versions/3.8.6/envs/lewagon/lib/python3.8/site-packages (from pyobjc->pyautogui->pywhatkit) (8.1)\n",
      "Requirement already satisfied: pyobjc-framework-CoreML==8.1 in /Users/renesalmon/.pyenv/versions/3.8.6/envs/lewagon/lib/python3.8/site-packages (from pyobjc->pyautogui->pywhatkit) (8.1)\n",
      "Requirement already satisfied: pyobjc-framework-Contacts==8.1 in /Users/renesalmon/.pyenv/versions/3.8.6/envs/lewagon/lib/python3.8/site-packages (from pyobjc->pyautogui->pywhatkit) (8.1)\n",
      "Requirement already satisfied: pyobjc-framework-Intents==8.1 in /Users/renesalmon/.pyenv/versions/3.8.6/envs/lewagon/lib/python3.8/site-packages (from pyobjc->pyautogui->pywhatkit) (8.1)\n",
      "Requirement already satisfied: pyobjc-framework-Virtualization==8.1 in /Users/renesalmon/.pyenv/versions/3.8.6/envs/lewagon/lib/python3.8/site-packages (from pyobjc->pyautogui->pywhatkit) (8.1)\n",
      "Requirement already satisfied: pyobjc-framework-AVKit==8.1 in /Users/renesalmon/.pyenv/versions/3.8.6/envs/lewagon/lib/python3.8/site-packages (from pyobjc->pyautogui->pywhatkit) (8.1)\n",
      "Requirement already satisfied: pyobjc-framework-CoreMIDI==8.1 in /Users/renesalmon/.pyenv/versions/3.8.6/envs/lewagon/lib/python3.8/site-packages (from pyobjc->pyautogui->pywhatkit) (8.1)\n",
      "Requirement already satisfied: pyobjc-framework-CryptoTokenKit==8.1 in /Users/renesalmon/.pyenv/versions/3.8.6/envs/lewagon/lib/python3.8/site-packages (from pyobjc->pyautogui->pywhatkit) (8.1)\n",
      "Requirement already satisfied: pyobjc-framework-Vision==8.1 in /Users/renesalmon/.pyenv/versions/3.8.6/envs/lewagon/lib/python3.8/site-packages (from pyobjc->pyautogui->pywhatkit) (8.1)\n",
      "Requirement already satisfied: pyobjc-framework-FileProviderUI==8.1 in /Users/renesalmon/.pyenv/versions/3.8.6/envs/lewagon/lib/python3.8/site-packages (from pyobjc->pyautogui->pywhatkit) (8.1)\n",
      "Requirement already satisfied: pyobjc-framework-VideoToolbox==8.1 in /Users/renesalmon/.pyenv/versions/3.8.6/envs/lewagon/lib/python3.8/site-packages (from pyobjc->pyautogui->pywhatkit) (8.1)\n",
      "Requirement already satisfied: pyobjc-framework-IMServicePlugIn==8.1 in /Users/renesalmon/.pyenv/versions/3.8.6/envs/lewagon/lib/python3.8/site-packages (from pyobjc->pyautogui->pywhatkit) (8.1)\n",
      "Requirement already satisfied: pyobjc-framework-SyncServices==8.1 in /Users/renesalmon/.pyenv/versions/3.8.6/envs/lewagon/lib/python3.8/site-packages (from pyobjc->pyautogui->pywhatkit) (8.1)\n",
      "Requirement already satisfied: pyobjc-framework-ClassKit==8.1 in /Users/renesalmon/.pyenv/versions/3.8.6/envs/lewagon/lib/python3.8/site-packages (from pyobjc->pyautogui->pywhatkit) (8.1)\n",
      "Requirement already satisfied: pyobjc-framework-Quartz==8.1 in /Users/renesalmon/.pyenv/versions/3.8.6/envs/lewagon/lib/python3.8/site-packages (from pyobjc->pyautogui->pywhatkit) (8.1)\n",
      "Requirement already satisfied: pyobjc-framework-AutomaticAssessmentConfiguration==8.1 in /Users/renesalmon/.pyenv/versions/3.8.6/envs/lewagon/lib/python3.8/site-packages (from pyobjc->pyautogui->pywhatkit) (8.1)\n",
      "Requirement already satisfied: pyobjc-framework-ImageCaptureCore==8.1 in /Users/renesalmon/.pyenv/versions/3.8.6/envs/lewagon/lib/python3.8/site-packages (from pyobjc->pyautogui->pywhatkit) (8.1)\n",
      "Requirement already satisfied: pyobjc-framework-MetalPerformanceShaders==8.1 in /Users/renesalmon/.pyenv/versions/3.8.6/envs/lewagon/lib/python3.8/site-packages (from pyobjc->pyautogui->pywhatkit) (8.1)\n",
      "Requirement already satisfied: pyobjc-framework-OSAKit==8.1 in /Users/renesalmon/.pyenv/versions/3.8.6/envs/lewagon/lib/python3.8/site-packages (from pyobjc->pyautogui->pywhatkit) (8.1)\n",
      "Requirement already satisfied: pyobjc-framework-CoreMedia==8.1 in /Users/renesalmon/.pyenv/versions/3.8.6/envs/lewagon/lib/python3.8/site-packages (from pyobjc->pyautogui->pywhatkit) (8.1)\n",
      "Requirement already satisfied: pyobjc-framework-LaunchServices==8.1 in /Users/renesalmon/.pyenv/versions/3.8.6/envs/lewagon/lib/python3.8/site-packages (from pyobjc->pyautogui->pywhatkit) (8.1)\n",
      "Requirement already satisfied: pyobjc-framework-Automator==8.1 in /Users/renesalmon/.pyenv/versions/3.8.6/envs/lewagon/lib/python3.8/site-packages (from pyobjc->pyautogui->pywhatkit) (8.1)\n"
     ]
    },
    {
     "name": "stdout",
     "output_type": "stream",
     "text": [
      "Requirement already satisfied: pyobjc-framework-AppleScriptObjC==8.1 in /Users/renesalmon/.pyenv/versions/3.8.6/envs/lewagon/lib/python3.8/site-packages (from pyobjc->pyautogui->pywhatkit) (8.1)\n",
      "Requirement already satisfied: pyobjc-framework-IOSurface==8.1 in /Users/renesalmon/.pyenv/versions/3.8.6/envs/lewagon/lib/python3.8/site-packages (from pyobjc->pyautogui->pywhatkit) (8.1)\n",
      "Requirement already satisfied: pyobjc-framework-SceneKit==8.1 in /Users/renesalmon/.pyenv/versions/3.8.6/envs/lewagon/lib/python3.8/site-packages (from pyobjc->pyautogui->pywhatkit) (8.1)\n",
      "Requirement already satisfied: pyobjc-framework-Accounts==8.1 in /Users/renesalmon/.pyenv/versions/3.8.6/envs/lewagon/lib/python3.8/site-packages (from pyobjc->pyautogui->pywhatkit) (8.1)\n",
      "Requirement already satisfied: pyobjc-framework-CoreServices==8.1 in /Users/renesalmon/.pyenv/versions/3.8.6/envs/lewagon/lib/python3.8/site-packages (from pyobjc->pyautogui->pywhatkit) (8.1)\n",
      "Requirement already satisfied: pyobjc-framework-LatentSemanticMapping==8.1 in /Users/renesalmon/.pyenv/versions/3.8.6/envs/lewagon/lib/python3.8/site-packages (from pyobjc->pyautogui->pywhatkit) (8.1)\n",
      "Requirement already satisfied: pyobjc-framework-Accessibility==8.1 in /Users/renesalmon/.pyenv/versions/3.8.6/envs/lewagon/lib/python3.8/site-packages (from pyobjc->pyautogui->pywhatkit) (8.1)\n",
      "Requirement already satisfied: pyobjc-framework-OSLog==8.1 in /Users/renesalmon/.pyenv/versions/3.8.6/envs/lewagon/lib/python3.8/site-packages (from pyobjc->pyautogui->pywhatkit) (8.1)\n",
      "Requirement already satisfied: pyobjc-framework-AppTrackingTransparency==8.1 in /Users/renesalmon/.pyenv/versions/3.8.6/envs/lewagon/lib/python3.8/site-packages (from pyobjc->pyautogui->pywhatkit) (8.1)\n",
      "Requirement already satisfied: pyobjc-framework-Social==8.1 in /Users/renesalmon/.pyenv/versions/3.8.6/envs/lewagon/lib/python3.8/site-packages (from pyobjc->pyautogui->pywhatkit) (8.1)\n",
      "Requirement already satisfied: pyobjc-framework-MediaLibrary==8.1 in /Users/renesalmon/.pyenv/versions/3.8.6/envs/lewagon/lib/python3.8/site-packages (from pyobjc->pyautogui->pywhatkit) (8.1)\n",
      "Requirement already satisfied: pyobjc-framework-CoreLocation==8.1 in /Users/renesalmon/.pyenv/versions/3.8.6/envs/lewagon/lib/python3.8/site-packages (from pyobjc->pyautogui->pywhatkit) (8.1)\n",
      "Requirement already satisfied: pyobjc-framework-KernelManagement==8.1 in /Users/renesalmon/.pyenv/versions/3.8.6/envs/lewagon/lib/python3.8/site-packages (from pyobjc->pyautogui->pywhatkit) (8.1)\n",
      "Requirement already satisfied: pyobjc-framework-CoreMotion==8.1 in /Users/renesalmon/.pyenv/versions/3.8.6/envs/lewagon/lib/python3.8/site-packages (from pyobjc->pyautogui->pywhatkit) (8.1)\n",
      "Requirement already satisfied: pyobjc-framework-SoundAnalysis==8.1 in /Users/renesalmon/.pyenv/versions/3.8.6/envs/lewagon/lib/python3.8/site-packages (from pyobjc->pyautogui->pywhatkit) (8.1)\n",
      "Requirement already satisfied: pyobjc-framework-ContactsUI==8.1 in /Users/renesalmon/.pyenv/versions/3.8.6/envs/lewagon/lib/python3.8/site-packages (from pyobjc->pyautogui->pywhatkit) (8.1)\n",
      "Requirement already satisfied: pyobjc-framework-ScriptingBridge==8.1 in /Users/renesalmon/.pyenv/versions/3.8.6/envs/lewagon/lib/python3.8/site-packages (from pyobjc->pyautogui->pywhatkit) (8.1)\n",
      "Requirement already satisfied: pyobjc-framework-ExternalAccessory==8.1 in /Users/renesalmon/.pyenv/versions/3.8.6/envs/lewagon/lib/python3.8/site-packages (from pyobjc->pyautogui->pywhatkit) (8.1)\n",
      "Requirement already satisfied: pyobjc-framework-ScreenTime==8.1 in /Users/renesalmon/.pyenv/versions/3.8.6/envs/lewagon/lib/python3.8/site-packages (from pyobjc->pyautogui->pywhatkit) (8.1)\n",
      "Requirement already satisfied: pyobjc-framework-AppleScriptKit==8.1 in /Users/renesalmon/.pyenv/versions/3.8.6/envs/lewagon/lib/python3.8/site-packages (from pyobjc->pyautogui->pywhatkit) (8.1)\n",
      "Requirement already satisfied: pyobjc-framework-GameCenter==8.1 in /Users/renesalmon/.pyenv/versions/3.8.6/envs/lewagon/lib/python3.8/site-packages (from pyobjc->pyautogui->pywhatkit) (8.1)\n",
      "Requirement already satisfied: pyobjc-framework-InstallerPlugins==8.1 in /Users/renesalmon/.pyenv/versions/3.8.6/envs/lewagon/lib/python3.8/site-packages (from pyobjc->pyautogui->pywhatkit) (8.1)\n",
      "Requirement already satisfied: pyobjc-framework-AddressBook==8.1 in /Users/renesalmon/.pyenv/versions/3.8.6/envs/lewagon/lib/python3.8/site-packages (from pyobjc->pyautogui->pywhatkit) (8.1)\n",
      "Requirement already satisfied: pyobjc-framework-ModelIO==8.1 in /Users/renesalmon/.pyenv/versions/3.8.6/envs/lewagon/lib/python3.8/site-packages (from pyobjc->pyautogui->pywhatkit) (8.1)\n",
      "Requirement already satisfied: pyobjc-framework-PencilKit==8.1 in /Users/renesalmon/.pyenv/versions/3.8.6/envs/lewagon/lib/python3.8/site-packages (from pyobjc->pyautogui->pywhatkit) (8.1)\n",
      "Requirement already satisfied: pyobjc-framework-MediaAccessibility==8.1 in /Users/renesalmon/.pyenv/versions/3.8.6/envs/lewagon/lib/python3.8/site-packages (from pyobjc->pyautogui->pywhatkit) (8.1)\n",
      "Requirement already satisfied: pyobjc-framework-DictionaryServices==8.1 in /Users/renesalmon/.pyenv/versions/3.8.6/envs/lewagon/lib/python3.8/site-packages (from pyobjc->pyautogui->pywhatkit) (8.1)\n",
      "Requirement already satisfied: pyobjc-framework-EventKit==8.1 in /Users/renesalmon/.pyenv/versions/3.8.6/envs/lewagon/lib/python3.8/site-packages (from pyobjc->pyautogui->pywhatkit) (8.1)\n",
      "Requirement already satisfied: pyobjc-framework-DeviceCheck==8.1 in /Users/renesalmon/.pyenv/versions/3.8.6/envs/lewagon/lib/python3.8/site-packages (from pyobjc->pyautogui->pywhatkit) (8.1)\n",
      "Requirement already satisfied: pyobjc-framework-SafariServices==8.1 in /Users/renesalmon/.pyenv/versions/3.8.6/envs/lewagon/lib/python3.8/site-packages (from pyobjc->pyautogui->pywhatkit) (8.1)\n",
      "Requirement already satisfied: pyobjc-framework-CoreMediaIO==8.1 in /Users/renesalmon/.pyenv/versions/3.8.6/envs/lewagon/lib/python3.8/site-packages (from pyobjc->pyautogui->pywhatkit) (8.1)\n",
      "Requirement already satisfied: pyobjc-framework-NetFS==8.1 in /Users/renesalmon/.pyenv/versions/3.8.6/envs/lewagon/lib/python3.8/site-packages (from pyobjc->pyautogui->pywhatkit) (8.1)\n",
      "Requirement already satisfied: pyobjc-framework-CoreBluetooth==8.1 in /Users/renesalmon/.pyenv/versions/3.8.6/envs/lewagon/lib/python3.8/site-packages (from pyobjc->pyautogui->pywhatkit) (8.1)\n",
      "Requirement already satisfied: pyobjc-framework-FinderSync==8.1 in /Users/renesalmon/.pyenv/versions/3.8.6/envs/lewagon/lib/python3.8/site-packages (from pyobjc->pyautogui->pywhatkit) (8.1)\n",
      "Requirement already satisfied: pyobjc-framework-CoreData==8.1 in /Users/renesalmon/.pyenv/versions/3.8.6/envs/lewagon/lib/python3.8/site-packages (from pyobjc->pyautogui->pywhatkit) (8.1)\n",
      "Requirement already satisfied: pyobjc-framework-MediaToolbox==8.1 in /Users/renesalmon/.pyenv/versions/3.8.6/envs/lewagon/lib/python3.8/site-packages (from pyobjc->pyautogui->pywhatkit) (8.1)\n",
      "Requirement already satisfied: pyobjc-framework-CoreAudioKit==8.1 in /Users/renesalmon/.pyenv/versions/3.8.6/envs/lewagon/lib/python3.8/site-packages (from pyobjc->pyautogui->pywhatkit) (8.1)\n",
      "Requirement already satisfied: pyobjc-framework-Cocoa==8.1 in /Users/renesalmon/.pyenv/versions/3.8.6/envs/lewagon/lib/python3.8/site-packages (from pyobjc->pyautogui->pywhatkit) (8.1)\n",
      "Requirement already satisfied: pyobjc-framework-AuthenticationServices==8.1 in /Users/renesalmon/.pyenv/versions/3.8.6/envs/lewagon/lib/python3.8/site-packages (from pyobjc->pyautogui->pywhatkit) (8.1)\n",
      "Requirement already satisfied: pyobjc-framework-PassKit==8.1 in /Users/renesalmon/.pyenv/versions/3.8.6/envs/lewagon/lib/python3.8/site-packages (from pyobjc->pyautogui->pywhatkit) (8.1)\n",
      "Requirement already satisfied: pyobjc-framework-MapKit==8.1 in /Users/renesalmon/.pyenv/versions/3.8.6/envs/lewagon/lib/python3.8/site-packages (from pyobjc->pyautogui->pywhatkit) (8.1)\n",
      "Requirement already satisfied: pyobjc-framework-ExecutionPolicy==8.1 in /Users/renesalmon/.pyenv/versions/3.8.6/envs/lewagon/lib/python3.8/site-packages (from pyobjc->pyautogui->pywhatkit) (8.1)\n",
      "Requirement already satisfied: pyobjc-framework-ScreenSaver==8.1 in /Users/renesalmon/.pyenv/versions/3.8.6/envs/lewagon/lib/python3.8/site-packages (from pyobjc->pyautogui->pywhatkit) (8.1)\n",
      "Requirement already satisfied: pyobjc-framework-Network==8.1 in /Users/renesalmon/.pyenv/versions/3.8.6/envs/lewagon/lib/python3.8/site-packages (from pyobjc->pyautogui->pywhatkit) (8.1)\n",
      "Requirement already satisfied: pyobjc-framework-LinkPresentation==8.1 in /Users/renesalmon/.pyenv/versions/3.8.6/envs/lewagon/lib/python3.8/site-packages (from pyobjc->pyautogui->pywhatkit) (8.1)\n"
     ]
    },
    {
     "name": "stdout",
     "output_type": "stream",
     "text": [
      "Requirement already satisfied: pyobjc-framework-SecurityInterface==8.1 in /Users/renesalmon/.pyenv/versions/3.8.6/envs/lewagon/lib/python3.8/site-packages (from pyobjc->pyautogui->pywhatkit) (8.1)\r\n",
      "Requirement already satisfied: pyobjc-framework-SecurityFoundation==8.1 in /Users/renesalmon/.pyenv/versions/3.8.6/envs/lewagon/lib/python3.8/site-packages (from pyobjc->pyautogui->pywhatkit) (8.1)\r\n",
      "Requirement already satisfied: pyobjc-framework-libdispatch==8.1 in /Users/renesalmon/.pyenv/versions/3.8.6/envs/lewagon/lib/python3.8/site-packages (from pyobjc->pyautogui->pywhatkit) (8.1)\r\n",
      "Requirement already satisfied: pyobjc-framework-MetalKit==8.1 in /Users/renesalmon/.pyenv/versions/3.8.6/envs/lewagon/lib/python3.8/site-packages (from pyobjc->pyautogui->pywhatkit) (8.1)\r\n",
      "Requirement already satisfied: pyobjc-framework-FSEvents==8.1 in /Users/renesalmon/.pyenv/versions/3.8.6/envs/lewagon/lib/python3.8/site-packages (from pyobjc->pyautogui->pywhatkit) (8.1)\r\n",
      "Requirement already satisfied: pyobjc-framework-SpriteKit==8.1 in /Users/renesalmon/.pyenv/versions/3.8.6/envs/lewagon/lib/python3.8/site-packages (from pyobjc->pyautogui->pywhatkit) (8.1)\r\n",
      "Requirement already satisfied: pyobjc-framework-ExceptionHandling==8.1 in /Users/renesalmon/.pyenv/versions/3.8.6/envs/lewagon/lib/python3.8/site-packages (from pyobjc->pyautogui->pywhatkit) (8.1)\r\n",
      "Requirement already satisfied: pyobjc-framework-UserNotifications==8.1 in /Users/renesalmon/.pyenv/versions/3.8.6/envs/lewagon/lib/python3.8/site-packages (from pyobjc->pyautogui->pywhatkit) (8.1)\r\n",
      "Requirement already satisfied: pyobjc-framework-Photos==8.1 in /Users/renesalmon/.pyenv/versions/3.8.6/envs/lewagon/lib/python3.8/site-packages (from pyobjc->pyautogui->pywhatkit) (8.1)\r\n",
      "Requirement already satisfied: pyobjc-framework-FileProvider==8.1 in /Users/renesalmon/.pyenv/versions/3.8.6/envs/lewagon/lib/python3.8/site-packages (from pyobjc->pyautogui->pywhatkit) (8.1)\r\n"
     ]
    }
   ],
   "source": [
    "!pip install pywhatkit --upgrade"
   ]
  },
  {
   "cell_type": "code",
   "execution_count": 9,
   "id": "fdba509c",
   "metadata": {},
   "outputs": [
    {
     "ename": "NameError",
     "evalue": "ObjC Class 'b'NSEvent'' couldn't be found.",
     "output_type": "error",
     "traceback": [
      "\u001b[0;31m---------------------------------------------------------------------------\u001b[0m",
      "\u001b[0;31mNameError\u001b[0m                                 Traceback (most recent call last)",
      "\u001b[0;32m/var/folders/2d/wwtz9jl52lx4gtzgs_r0x7rr0000gn/T/ipykernel_32624/2452755263.py\u001b[0m in \u001b[0;36m<module>\u001b[0;34m\u001b[0m\n\u001b[0;32m----> 1\u001b[0;31m \u001b[0;32mimport\u001b[0m \u001b[0mpywhatkit\u001b[0m\u001b[0;34m\u001b[0m\u001b[0;34m\u001b[0m\u001b[0m\n\u001b[0m",
      "\u001b[0;32m~/.pyenv/versions/3.8.6/envs/lewagon/lib/python3.8/site-packages/pywhatkit/__init__.py\u001b[0m in \u001b[0;36m<module>\u001b[0;34m\u001b[0m\n\u001b[1;32m     14\u001b[0m \u001b[0;32mfrom\u001b[0m \u001b[0mpywhatkit\u001b[0m\u001b[0;34m.\u001b[0m\u001b[0mmisc\u001b[0m \u001b[0;32mimport\u001b[0m \u001b[0minfo\u001b[0m\u001b[0;34m,\u001b[0m \u001b[0mplayonyt\u001b[0m\u001b[0;34m,\u001b[0m \u001b[0msearch\u001b[0m\u001b[0;34m,\u001b[0m \u001b[0mshow_history\u001b[0m\u001b[0;34m\u001b[0m\u001b[0;34m\u001b[0m\u001b[0m\n\u001b[1;32m     15\u001b[0m \u001b[0;32mfrom\u001b[0m \u001b[0mpywhatkit\u001b[0m\u001b[0;34m.\u001b[0m\u001b[0msc\u001b[0m \u001b[0;32mimport\u001b[0m \u001b[0mcancel_shutdown\u001b[0m\u001b[0;34m,\u001b[0m \u001b[0mshutdown\u001b[0m\u001b[0;34m\u001b[0m\u001b[0;34m\u001b[0m\u001b[0m\n\u001b[0;32m---> 16\u001b[0;31m from pywhatkit.whats import (\n\u001b[0m\u001b[1;32m     17\u001b[0m     \u001b[0mopen_web\u001b[0m\u001b[0;34m,\u001b[0m\u001b[0;34m\u001b[0m\u001b[0;34m\u001b[0m\u001b[0m\n\u001b[1;32m     18\u001b[0m     \u001b[0msendwhatmsg\u001b[0m\u001b[0;34m,\u001b[0m\u001b[0;34m\u001b[0m\u001b[0;34m\u001b[0m\u001b[0m\n",
      "\u001b[0;32m~/.pyenv/versions/3.8.6/envs/lewagon/lib/python3.8/site-packages/pywhatkit/whats.py\u001b[0m in \u001b[0;36m<module>\u001b[0;34m\u001b[0m\n\u001b[1;32m      5\u001b[0m \u001b[0;32mfrom\u001b[0m \u001b[0murllib\u001b[0m\u001b[0;34m.\u001b[0m\u001b[0mparse\u001b[0m \u001b[0;32mimport\u001b[0m \u001b[0mquote\u001b[0m\u001b[0;34m\u001b[0m\u001b[0;34m\u001b[0m\u001b[0m\n\u001b[1;32m      6\u001b[0m \u001b[0;34m\u001b[0m\u001b[0m\n\u001b[0;32m----> 7\u001b[0;31m \u001b[0;32mimport\u001b[0m \u001b[0mpyautogui\u001b[0m \u001b[0;32mas\u001b[0m \u001b[0mpg\u001b[0m\u001b[0;34m\u001b[0m\u001b[0;34m\u001b[0m\u001b[0m\n\u001b[0m\u001b[1;32m      8\u001b[0m \u001b[0;34m\u001b[0m\u001b[0m\n\u001b[1;32m      9\u001b[0m \u001b[0;32mfrom\u001b[0m \u001b[0mpywhatkit\u001b[0m\u001b[0;34m.\u001b[0m\u001b[0mcore\u001b[0m \u001b[0;32mimport\u001b[0m \u001b[0mcore\u001b[0m\u001b[0;34m,\u001b[0m \u001b[0mexceptions\u001b[0m\u001b[0;34m,\u001b[0m \u001b[0mlog\u001b[0m\u001b[0;34m\u001b[0m\u001b[0;34m\u001b[0m\u001b[0m\n",
      "\u001b[0;32m~/.pyenv/versions/3.8.6/envs/lewagon/lib/python3.8/site-packages/pyautogui/__init__.py\u001b[0m in \u001b[0;36m<module>\u001b[0;34m\u001b[0m\n\u001b[1;32m    247\u001b[0m \u001b[0;34m\u001b[0m\u001b[0m\n\u001b[1;32m    248\u001b[0m \u001b[0;32mtry\u001b[0m\u001b[0;34m:\u001b[0m\u001b[0;34m\u001b[0m\u001b[0;34m\u001b[0m\u001b[0m\n\u001b[0;32m--> 249\u001b[0;31m     \u001b[0;32mimport\u001b[0m \u001b[0mmouseinfo\u001b[0m\u001b[0;34m\u001b[0m\u001b[0;34m\u001b[0m\u001b[0m\n\u001b[0m\u001b[1;32m    250\u001b[0m \u001b[0;34m\u001b[0m\u001b[0m\n\u001b[1;32m    251\u001b[0m     \u001b[0;32mdef\u001b[0m \u001b[0mmouseInfo\u001b[0m\u001b[0;34m(\u001b[0m\u001b[0;34m)\u001b[0m\u001b[0;34m:\u001b[0m\u001b[0;34m\u001b[0m\u001b[0;34m\u001b[0m\u001b[0m\n",
      "\u001b[0;32m~/.pyenv/versions/3.8.6/envs/lewagon/lib/python3.8/site-packages/mouseinfo/__init__.py\u001b[0m in \u001b[0;36m<module>\u001b[0;34m\u001b[0m\n\u001b[1;32m    105\u001b[0m     \u001b[0mappkit\u001b[0m \u001b[0;34m=\u001b[0m \u001b[0mcdll\u001b[0m\u001b[0;34m.\u001b[0m\u001b[0mLoadLibrary\u001b[0m\u001b[0;34m(\u001b[0m\u001b[0mutil\u001b[0m\u001b[0;34m.\u001b[0m\u001b[0mfind_library\u001b[0m\u001b[0;34m(\u001b[0m\u001b[0;34m'AppKit'\u001b[0m\u001b[0;34m)\u001b[0m\u001b[0;34m)\u001b[0m\u001b[0;34m\u001b[0m\u001b[0;34m\u001b[0m\u001b[0m\n\u001b[1;32m    106\u001b[0m \u001b[0;34m\u001b[0m\u001b[0m\n\u001b[0;32m--> 107\u001b[0;31m     \u001b[0mNSEvent\u001b[0m \u001b[0;34m=\u001b[0m \u001b[0mObjCClass\u001b[0m\u001b[0;34m(\u001b[0m\u001b[0;34m'NSEvent'\u001b[0m\u001b[0;34m)\u001b[0m\u001b[0;34m\u001b[0m\u001b[0;34m\u001b[0m\u001b[0m\n\u001b[0m\u001b[1;32m    108\u001b[0m     \u001b[0mNSEvent\u001b[0m\u001b[0;34m.\u001b[0m\u001b[0mdeclare_class_property\u001b[0m\u001b[0;34m(\u001b[0m\u001b[0;34m'mouseLocation'\u001b[0m\u001b[0;34m)\u001b[0m\u001b[0;34m\u001b[0m\u001b[0;34m\u001b[0m\u001b[0m\n\u001b[1;32m    109\u001b[0m     \u001b[0;31m# NSSystemDefined = ObjCClass('NSSystemDefined')\u001b[0m\u001b[0;34m\u001b[0m\u001b[0;34m\u001b[0m\u001b[0;34m\u001b[0m\u001b[0m\n",
      "\u001b[0;32m~/.pyenv/versions/3.8.6/envs/lewagon/lib/python3.8/site-packages/rubicon/objc/api.py\u001b[0m in \u001b[0;36m__new__\u001b[0;34m(cls, name_or_ptr, bases, attrs, protocols)\u001b[0m\n\u001b[1;32m   1111\u001b[0m \u001b[0;34m\u001b[0m\u001b[0m\n\u001b[1;32m   1112\u001b[0m             \u001b[0;32mif\u001b[0m \u001b[0misinstance\u001b[0m\u001b[0;34m(\u001b[0m\u001b[0mname_or_ptr\u001b[0m\u001b[0;34m,\u001b[0m \u001b[0;34m(\u001b[0m\u001b[0mbytes\u001b[0m\u001b[0;34m,\u001b[0m \u001b[0mstr\u001b[0m\u001b[0;34m)\u001b[0m\u001b[0;34m)\u001b[0m\u001b[0;34m:\u001b[0m\u001b[0;34m\u001b[0m\u001b[0;34m\u001b[0m\u001b[0m\n\u001b[0;32m-> 1113\u001b[0;31m                 \u001b[0mptr\u001b[0m\u001b[0;34m,\u001b[0m \u001b[0mname\u001b[0m \u001b[0;34m=\u001b[0m \u001b[0mcls\u001b[0m\u001b[0;34m.\u001b[0m\u001b[0m_new_from_name\u001b[0m\u001b[0;34m(\u001b[0m\u001b[0mname_or_ptr\u001b[0m\u001b[0;34m)\u001b[0m\u001b[0;34m\u001b[0m\u001b[0;34m\u001b[0m\u001b[0m\n\u001b[0m\u001b[1;32m   1114\u001b[0m             \u001b[0;32melse\u001b[0m\u001b[0;34m:\u001b[0m\u001b[0;34m\u001b[0m\u001b[0;34m\u001b[0m\u001b[0m\n\u001b[1;32m   1115\u001b[0m                 \u001b[0mptr\u001b[0m\u001b[0;34m,\u001b[0m \u001b[0mname\u001b[0m \u001b[0;34m=\u001b[0m \u001b[0mcls\u001b[0m\u001b[0;34m.\u001b[0m\u001b[0m_new_from_ptr\u001b[0m\u001b[0;34m(\u001b[0m\u001b[0mname_or_ptr\u001b[0m\u001b[0;34m)\u001b[0m\u001b[0;34m\u001b[0m\u001b[0;34m\u001b[0m\u001b[0m\n",
      "\u001b[0;32m~/.pyenv/versions/3.8.6/envs/lewagon/lib/python3.8/site-packages/rubicon/objc/api.py\u001b[0m in \u001b[0;36m_new_from_name\u001b[0;34m(cls, name)\u001b[0m\n\u001b[1;32m    983\u001b[0m         \u001b[0mptr\u001b[0m \u001b[0;34m=\u001b[0m \u001b[0mget_class\u001b[0m\u001b[0;34m(\u001b[0m\u001b[0mname\u001b[0m\u001b[0;34m)\u001b[0m\u001b[0;34m\u001b[0m\u001b[0;34m\u001b[0m\u001b[0m\n\u001b[1;32m    984\u001b[0m         \u001b[0;32mif\u001b[0m \u001b[0mptr\u001b[0m\u001b[0;34m.\u001b[0m\u001b[0mvalue\u001b[0m \u001b[0;32mis\u001b[0m \u001b[0;32mNone\u001b[0m\u001b[0;34m:\u001b[0m\u001b[0;34m\u001b[0m\u001b[0;34m\u001b[0m\u001b[0m\n\u001b[0;32m--> 985\u001b[0;31m             \u001b[0;32mraise\u001b[0m \u001b[0mNameError\u001b[0m\u001b[0;34m(\u001b[0m\u001b[0;34m\"ObjC Class '%s' couldn't be found.\"\u001b[0m \u001b[0;34m%\u001b[0m \u001b[0mname\u001b[0m\u001b[0;34m)\u001b[0m\u001b[0;34m\u001b[0m\u001b[0;34m\u001b[0m\u001b[0m\n\u001b[0m\u001b[1;32m    986\u001b[0m \u001b[0;34m\u001b[0m\u001b[0m\n\u001b[1;32m    987\u001b[0m         \u001b[0;32mreturn\u001b[0m \u001b[0mptr\u001b[0m\u001b[0;34m,\u001b[0m \u001b[0mname\u001b[0m\u001b[0;34m\u001b[0m\u001b[0;34m\u001b[0m\u001b[0m\n",
      "\u001b[0;31mNameError\u001b[0m: ObjC Class 'b'NSEvent'' couldn't be found."
     ]
    }
   ],
   "source": [
    "import pywhatkit"
   ]
  },
  {
   "cell_type": "code",
   "execution_count": null,
   "id": "ea900f9f",
   "metadata": {},
   "outputs": [],
   "source": [
    "# Send a WhatsApp Message to a Contact at 1:30 PM\n",
    "pywhatkit.sendwhatmsg(\"+910123456789\", \"Hi\", 13, 30)\n",
    "\n",
    "# Same as above but Closes the Tab in 2 Seconds after Sending the Message\n",
    "pywhatkit.sendwhatmsg(\"+910123456789\", \"Hi\", 13, 30, 15, True, 2)\n",
    "\n",
    "# Send an Image to a Group with the Caption as Hello\n",
    "pywhatkit.sendwhats_image(\"AB123CDEFGHijklmn\", \"Images/Hello.png\", \"Hello\")\n",
    "\n",
    "# Send an Image to a Contact with the no Caption\n",
    "pywhatkit.sendwhats_image(\"+910123456789\", \"Images/Hello.png\")\n",
    "\n",
    "# Send a WhatsApp Message to a Group at 12:00 AM\n",
    "pywhatkit.sendwhatmsg_to_group(\"AB123CDEFGHijklmn\", \"Hey All!\", 0, 0)\n",
    "\n",
    "# Play a Video on YouTube\n",
    "pywhatkit.playonyt(\"PyWhatKit\")"
   ]
  }
 ],
 "metadata": {
  "kernelspec": {
   "display_name": "Python 3 (ipykernel)",
   "language": "python",
   "name": "python3"
  },
  "language_info": {
   "codemirror_mode": {
    "name": "ipython",
    "version": 3
   },
   "file_extension": ".py",
   "mimetype": "text/x-python",
   "name": "python",
   "nbconvert_exporter": "python",
   "pygments_lexer": "ipython3",
   "version": "3.8.6"
  },
  "toc": {
   "base_numbering": 1,
   "nav_menu": {},
   "number_sections": true,
   "sideBar": true,
   "skip_h1_title": false,
   "title_cell": "Table of Contents",
   "title_sidebar": "Contents",
   "toc_cell": false,
   "toc_position": {},
   "toc_section_display": true,
   "toc_window_display": false
  },
  "varInspector": {
   "cols": {
    "lenName": 16,
    "lenType": 16,
    "lenVar": 40
   },
   "kernels_config": {
    "python": {
     "delete_cmd_postfix": "",
     "delete_cmd_prefix": "del ",
     "library": "var_list.py",
     "varRefreshCmd": "print(var_dic_list())"
    },
    "r": {
     "delete_cmd_postfix": ") ",
     "delete_cmd_prefix": "rm(",
     "library": "var_list.r",
     "varRefreshCmd": "cat(var_dic_list()) "
    }
   },
   "types_to_exclude": [
    "module",
    "function",
    "builtin_function_or_method",
    "instance",
    "_Feature"
   ],
   "window_display": false
  }
 },
 "nbformat": 4,
 "nbformat_minor": 5
}
